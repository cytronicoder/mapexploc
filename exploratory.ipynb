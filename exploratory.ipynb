{
 "cells": [
  {
   "cell_type": "markdown",
   "id": "ad1b4f0c",
   "metadata": {},
   "source": [
    "# Exploratory Data Analysis\n",
    "\n",
    "In this notebook, we will perform some exploratory data analysis on the UniProtKB/Swiss-Prot dataset to understand the distribution of subcellular localizations, sequence lengths, feature correlations, and key physico-chemical properties.\n",
    "\n",
    "We are using the UniProtKB/Swiss-Prot Release 2025_03 of 18-Jun-2025 for this project; the checksum for the DAT file is `ecfb866a5de8f27497af396735f09b30`. Therefore, you might create a different model if you use a different version of the UniProt data. Just keep that in mind if you want to reproduce the results.\n"
   ]
  },
  {
   "cell_type": "code",
   "execution_count": null,
   "id": "925af9a1",
   "metadata": {},
   "outputs": [],
   "source": [
    "import os\n",
    "\n",
    "import matplotlib.pyplot as plt\n",
    "import numpy as np\n",
    "import pandas as pd\n",
    "import seaborn as sns\n",
    "import umap\n",
    "from sklearn.cluster import KMeans\n",
    "from sklearn.manifold import TSNE\n",
    "from sklearn.preprocessing import StandardScaler"
   ]
  },
  {
   "cell_type": "code",
   "execution_count": null,
   "id": "50918bcb",
   "metadata": {},
   "outputs": [],
   "source": [
    "FIG_DIR = \"results/figures\"\n",
    "CSV_DIR = \"results/csv\"\n",
    "os.makedirs(FIG_DIR, exist_ok=True)\n",
    "os.makedirs(CSV_DIR, exist_ok=True)"
   ]
  },
  {
   "cell_type": "code",
   "execution_count": null,
   "id": "ad97cd59",
   "metadata": {},
   "outputs": [],
   "source": [
    "df_feat = pd.read_csv(\"data/processed/features.csv\")"
   ]
  },
  {
   "cell_type": "code",
   "execution_count": null,
   "id": "f86f48bc",
   "metadata": {},
   "outputs": [],
   "source": [
    "plt.figure(figsize=(10, 6))\n",
    "sns.countplot(\n",
    "    y=\"localization\",\n",
    "    data=df_feat,\n",
    "    order=df_feat[\"localization\"].value_counts().index,\n",
    "    palette=\"viridis\",\n",
    "    hue=\"localization\",\n",
    "    legend=False\n",
    ")\n",
    "plt.title(\"Number of Proteins per Compartment\")\n",
    "plt.xlabel(\"Count\")\n",
    "plt.ylabel(\"Compartment\")\n",
    "plt.tight_layout()\n",
    "fig = plt.gcf()\n",
    "fig.savefig(f\"{FIG_DIR}/proteins_per_compartment.png\")\n",
    "print(f\"Saved figure to {FIG_DIR}/proteins_per_compartment.png\")\n",
    "plt.close(fig)"
   ]
  },
  {
   "cell_type": "code",
   "execution_count": null,
   "id": "170b2aba",
   "metadata": {},
   "outputs": [],
   "source": [
    "plt.figure(figsize=(8, 5))\n",
    "sns.histplot(df_feat[\"sequence_length\"], bins=50, kde=True, color=\"steelblue\")\n",
    "plt.title(\"Sequence Length Distribution\")\n",
    "plt.xlabel(\"Sequence Length (AA)\")\n",
    "plt.ylabel(\"Frequency\")\n",
    "plt.tight_layout()\n",
    "fig = plt.gcf()\n",
    "fig.savefig(f\"{FIG_DIR}/sequence_length_distribution.png\")\n",
    "print(f\"Saved figure to {FIG_DIR}/sequence_length_distribution.png\")\n",
    "plt.close(fig)"
   ]
  },
  {
   "cell_type": "code",
   "execution_count": null,
   "id": "13f0090d",
   "metadata": {},
   "outputs": [],
   "source": [
    "# 3. Class balance check\n",
    "counts = df_feat[\"localization\"].value_counts()\n",
    "percent = df_feat[\"localization\"].value_counts(normalize=True) * 100\n",
    "balance_df = pd.DataFrame({\"count\": counts, \"percent\": percent.round(2)})\n",
    "print(\"Class Balance (count and percentage):\")\n",
    "print(balance_df)\n",
    "\n",
    "# Save class balance to CSV\n",
    "balance_df.to_csv(f\"{CSV_DIR}/class_balance.csv\")\n",
    "print(f\"Saved class balance to {CSV_DIR}/class_balance.csv\")"
   ]
  },
  {
   "cell_type": "code",
   "execution_count": null,
   "id": "2dd385f2",
   "metadata": {},
   "outputs": [],
   "source": [
    "plt.figure(figsize=(12, 6))\n",
    "sns.violinplot(\n",
    "    x=\"localization\",\n",
    "    y=\"gravy\",\n",
    "    data=df_feat,\n",
    "    palette=\"pastel\",\n",
    "    inner=\"quartile\",\n",
    "    hue=\"localization\",\n",
    ")\n",
    "plt.title(\"GRAVY Distribution by Compartment\")\n",
    "plt.xticks(rotation=45)\n",
    "plt.tight_layout()\n",
    "fig = plt.gcf()\n",
    "fig.savefig(f\"{FIG_DIR}/gravy_distribution.png\")\n",
    "print(f\"Saved figure to {FIG_DIR}/gravy_distribution.png\")\n",
    "plt.close(fig)"
   ]
  },
  {
   "cell_type": "code",
   "execution_count": null,
   "id": "10ca5e56",
   "metadata": {},
   "outputs": [],
   "source": [
    "plt.figure(figsize=(12, 6))\n",
    "sns.violinplot(\n",
    "    x=\"localization\",\n",
    "    y=\"pI\",\n",
    "    data=df_feat,\n",
    "    palette=\"pastel\",\n",
    "    inner=\"quartile\",\n",
    "    hue=\"localization\",\n",
    ")\n",
    "plt.title(\"Isoelectric Point (pI) Distribution by Compartment\")\n",
    "plt.xticks(rotation=45)\n",
    "plt.tight_layout()\n",
    "fig = plt.gcf()\n",
    "fig.savefig(f\"{FIG_DIR}/pI_distribution.png\")\n",
    "print(f\"Saved figure to {FIG_DIR}/pI_distribution.png\")\n",
    "plt.close(fig)"
   ]
  },
  {
   "cell_type": "code",
   "execution_count": null,
   "id": "c1268401",
   "metadata": {},
   "outputs": [],
   "source": [
    "# 3b. Pearson Correlation Heatmap of Top 10 Variable Features\n",
    "numeric_cols = df_feat.select_dtypes(include=[np.number]).columns.tolist()\n",
    "top_vars = (\n",
    "    df_feat[numeric_cols].var().sort_values(ascending=False).head(10).index.tolist()\n",
    ")\n",
    "corr_matrix = df_feat[top_vars].corr()\n",
    "plt.figure(figsize=(10, 8))\n",
    "sns.heatmap(corr_matrix, annot=True, fmt=\".2f\", cmap=\"coolwarm\", square=True)\n",
    "plt.title(\"Pearson Correlation Heatmap of Top 10 Variable Features\")\n",
    "plt.tight_layout()\n",
    "fig = plt.gcf()\n",
    "fig.savefig(f\"{FIG_DIR}/correlation_heatmap.png\")\n",
    "print(f\"Saved figure to {FIG_DIR}/correlation_heatmap.png\")\n",
    "plt.close(fig)"
   ]
  },
  {
   "cell_type": "code",
   "execution_count": null,
   "id": "0c7e0590",
   "metadata": {},
   "outputs": [],
   "source": [
    "try:\n",
    "    reducer = umap.UMAP(n_neighbors=15, min_dist=0.1, random_state=42)\n",
    "    scaler = StandardScaler()\n",
    "    scaled_features = scaler.fit_transform(df_feat[numeric_cols])\n",
    "    embedding = reducer.fit_transform(scaled_features)\n",
    "    method = \"UMAP\"\n",
    "except ImportError:\n",
    "    tsne = TSNE(n_components=2, random_state=42)\n",
    "    scaler = StandardScaler()\n",
    "    scaled_features = scaler.fit_transform(df_feat[numeric_cols])\n",
    "    embedding = tsne.fit_transform(scaled_features)\n",
    "    method = \"t-SNE\""
   ]
  },
  {
   "cell_type": "code",
   "execution_count": null,
   "id": "064ea942",
   "metadata": {},
   "outputs": [],
   "source": [
    "emb_df = pd.DataFrame(embedding, columns=[\"Dim1\", \"Dim2\"])\n",
    "emb_df[\"localization\"] = df_feat[\"localization\"].values\n",
    "plt.figure(figsize=(8, 6))\n",
    "sns.scatterplot(\n",
    "    x=\"Dim1\", y=\"Dim2\", hue=\"localization\", data=emb_df, legend=False, palette=\"tab10\"\n",
    ")\n",
    "plt.title(f\"{method} Embedding Colored by True Compartment\")\n",
    "plt.tight_layout()\n",
    "fig = plt.gcf()\n",
    "fig.savefig(f\"{FIG_DIR}/{method.lower()}_embedding.png\")\n",
    "print(f\"Saved embedding figure to {FIG_DIR}/{method.lower()}_embedding.png\")\n",
    "plt.close(fig)"
   ]
  },
  {
   "cell_type": "code",
   "execution_count": null,
   "id": "e77980c5",
   "metadata": {},
   "outputs": [],
   "source": [
    "n_clusters = df_feat[\"localization\"].nunique()\n",
    "kmeans = KMeans(n_clusters=n_clusters, random_state=42)\n",
    "clusters = kmeans.fit_predict(emb_df[[\"Dim1\", \"Dim2\"]])\n",
    "emb_df[\"cluster\"] = clusters\n",
    "\n",
    "plt.figure(figsize=(8, 6))\n",
    "sns.scatterplot(\n",
    "    x=\"Dim1\", y=\"Dim2\", hue=\"cluster\", data=emb_df, palette=\"tab10\", legend=\"full\"\n",
    ")\n",
    "plt.title(f\"{method} Embedding with KMeans Clusters\")\n",
    "plt.tight_layout()\n",
    "fig = plt.gcf()\n",
    "fig.savefig(f\"{FIG_DIR}/{method.lower()}_embedding_clusters.png\")\n",
    "print(f\"Saved clustering figure to {FIG_DIR}/{method.lower()}_embedding_clusters.png\")\n",
    "plt.close(fig)"
   ]
  },
  {
   "cell_type": "code",
   "execution_count": null,
   "id": "b38887a5",
   "metadata": {},
   "outputs": [],
   "source": [
    "ct = pd.crosstab(emb_df[\"cluster\"], emb_df[\"localization\"])\n",
    "print(\"Contingency table of clusters vs true compartments:\")\n",
    "print(ct)\n",
    "ct.to_csv(f\"{CSV_DIR}/clusters_vs_localization.csv\")\n",
    "print(f\"Saved contingency table to {CSV_DIR}/clusters_vs_localization.csv\")"
   ]
  }
 ],
 "metadata": {
  "kernelspec": {
   "display_name": "eslp",
   "language": "python",
   "name": "python3"
  },
  "language_info": {
   "codemirror_mode": {
    "name": "ipython",
    "version": 3
   },
   "file_extension": ".py",
   "mimetype": "text/x-python",
   "name": "python",
   "nbconvert_exporter": "python",
   "pygments_lexer": "ipython3",
   "version": "3.13.5"
  }
 },
 "nbformat": 4,
 "nbformat_minor": 5
}
