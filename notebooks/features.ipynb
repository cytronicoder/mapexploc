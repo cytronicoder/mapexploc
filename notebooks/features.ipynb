{
 "cells": [
  {
   "cell_type": "markdown",
   "id": "f8353235",
   "metadata": {},
   "source": [
    "# Feature engineering\n",
    "\n",
    "We use the following features for the Random Forest model:\n",
    "\n",
    "+ **Amino acid composition**: The percentage of each standard amino acid in the protein sequence.\n",
    "+ **Dipeptide frequencies**: The frequency of each dipeptide (pair of amino acids) in the protein sequence.\n",
    "+ **GRAVY**: The grand average of hydropathy (GRAVY) of the protein sequence, which is a measure of hydrophobicity.\n",
    "+ **pI**: The isoelectric point of the protein sequence, which is the pH at which the protein has no net charge.\n",
    "+ **Sequence length**: The length of the protein sequence.\n",
    "+ **Original length**: The length of the original protein sequence (before cleaning)."
   ]
  },
  {
   "cell_type": "code",
   "execution_count": null,
   "id": "9ca9cc66",
   "metadata": {},
   "outputs": [],
   "source": [
    "import os\n",
    "\n",
    "import pandas as pd\n",
    "from sklearn.model_selection import train_test_split\n",
    "\n",
    "from mapexploc.features import build_feature_matrix"
   ]
  },
  {
   "cell_type": "code",
   "execution_count": null,
   "id": "4a290634",
   "metadata": {},
   "outputs": [],
   "source": [
    "INPUT_ANN = \"data/processed/annotations.csv\"\n",
    "INPUT_FASTA = \"data/processed/nonredundant.fasta\"\n",
    "OUTPUT_FEAT = \"data/processed/features.csv\"\n",
    "\n",
    "OUTPUT_X_TRAIN = \"data/processed/X/train.csv\"\n",
    "OUTPUT_X_TMP   = \"data/processed/X/tmp.csv\"\n",
    "OUTPUT_X_VAL   = \"data/processed/X/val.csv\"\n",
    "OUTPUT_X_TEST  = \"data/processed/X/test.csv\"\n",
    "\n",
    "OUTPUT_Y_TRAIN = \"data/processed/Y/train.csv\"\n",
    "OUTPUT_Y_TMP   = \"data/processed/Y/tmp.csv\"\n",
    "OUTPUT_Y_VAL   = \"data/processed/Y/val.csv\"\n",
    "OUTPUT_Y_TEST  = \"data/processed/Y/test.csv\""
   ]
  },
  {
   "cell_type": "code",
   "execution_count": null,
   "id": "e0b15460",
   "metadata": {},
   "outputs": [],
   "source": [
    "os.makedirs(os.path.dirname(OUTPUT_X_TRAIN), exist_ok=True)\n",
    "os.makedirs(os.path.dirname(OUTPUT_Y_TRAIN), exist_ok=True)"
   ]
  },
  {
   "cell_type": "code",
   "execution_count": null,
   "id": "82539231",
   "metadata": {},
   "outputs": [],
   "source": [
    "df = build_feature_matrix(INPUT_FASTA, INPUT_ANN)\n",
    "df.to_csv(OUTPUT_FEAT, index=False)\n",
    "print(f\"Wrote features to {OUTPUT_FEAT}\")\n",
    "print(f\"Feature matrix shape: {df.shape}\")\n",
    "print(f\"Features per sequence: {df.shape[1] - 2}\")"
   ]
  },
  {
   "cell_type": "markdown",
   "id": "90ab5d0b",
   "metadata": {},
   "source": [
    "For the purposes of this project, we will only stratify the first split to preserve overall class balance in the training set. We will use a plain random split (no stratify) when dividing the held-out data into validation and test sets.\n",
    "\n",
    "**Why not stratify the held-out data?** Even after removing global singletons, we can still end up with some classes that have only one member in the temporary pool. Therefore, a stratified split there will always fail for any class with fewer than 2 samples."
   ]
  },
  {
   "cell_type": "code",
   "execution_count": null,
   "id": "8c5a6ce7",
   "metadata": {},
   "outputs": [],
   "source": [
    "df = pd.read_csv(OUTPUT_FEAT)\n",
    "y = df.pop(\"localization\")\n",
    "\n",
    "X_train, X_tmp, y_train, y_tmp = train_test_split(\n",
    "    df, y, test_size=0.30, stratify=y, random_state=42\n",
    ")\n",
    "\n",
    "X_val, X_test, y_val, y_test = train_test_split(\n",
    "    X_tmp, y_tmp, test_size=0.50, random_state=42\n",
    ")\n",
    "\n",
    "print(\"Train dist:\\n\", y_train.value_counts(normalize=True), \"\\n\")\n",
    "print(\"Val dist (approx):\\n\", y_val.value_counts(normalize=True), \"\\n\")\n",
    "print(\"Test dist (approx):\\n\", y_test.value_counts(normalize=True))"
   ]
  },
  {
   "cell_type": "code",
   "execution_count": null,
   "id": "f56e4490",
   "metadata": {},
   "outputs": [],
   "source": [
    "X_train.to_csv(OUTPUT_X_TRAIN, index=False)\n",
    "X_tmp.to_csv(OUTPUT_X_TMP, index=False)\n",
    "X_val.to_csv(OUTPUT_X_VAL, index=False)\n",
    "X_test.to_csv(OUTPUT_X_TEST, index=False)\n",
    "\n",
    "y_train.to_csv(OUTPUT_Y_TRAIN, index=False)\n",
    "y_tmp.to_csv(OUTPUT_Y_TMP, index=False)\n",
    "y_val.to_csv(OUTPUT_Y_VAL, index=False)\n",
    "y_test.to_csv(OUTPUT_Y_TEST, index=False)\n",
    "\n",
    "print(\"Split data into train/val/test sets:\")\n",
    "print(f\"X_train: {X_train.shape}, y_train: {y_train.shape}\")\n",
    "print(f\"X_val: {X_val.shape}, y_val: {y_val.shape}\")\n",
    "print(f\"X_test: {X_test.shape}, y_test: {y_test.shape}\")\n",
    "print(f\"Data written to {OUTPUT_X_TRAIN}, {OUTPUT_Y_TRAIN}, etc.\")"
   ]
  }
 ],
 "metadata": {
  "kernelspec": {
   "display_name": ".venv",
   "language": "python",
   "name": "python3"
  },
  "language_info": {
   "codemirror_mode": {
    "name": "ipython",
    "version": 3
   },
   "file_extension": ".py",
   "mimetype": "text/x-python",
   "name": "python",
   "nbconvert_exporter": "python",
   "pygments_lexer": "ipython3",
   "version": "3.12.11"
  }
 },
 "nbformat": 4,
 "nbformat_minor": 5
}
