{
 "cells": [
  {
   "cell_type": "markdown",
   "id": "2689f0e9",
   "metadata": {},
   "source": []
  },
  {
   "cell_type": "code",
   "execution_count": null,
   "id": "abe299ee",
   "metadata": {},
   "outputs": [],
   "source": [
    "import os\n",
    "\n",
    "import joblib\n",
    "import matplotlib.pyplot as plt\n",
    "import numpy as np\n",
    "import pandas as pd\n",
    "import seaborn as sns\n",
    "from sklearn.calibration import calibration_curve\n",
    "from sklearn.inspection import PartialDependenceDisplay, permutation_importance\n",
    "from sklearn.metrics import (\n",
    "    accuracy_score,\n",
    "    auc,\n",
    "    average_precision_score,\n",
    "    brier_score_loss,\n",
    "    classification_report,\n",
    "    confusion_matrix,\n",
    "    f1_score,\n",
    "    precision_recall_curve,\n",
    "    roc_curve,\n",
    ")\n",
    "from sklearn.pipeline import Pipeline\n",
    "from sklearn.preprocessing import StandardScaler, label_binarize"
   ]
  },
  {
   "cell_type": "code",
   "execution_count": null,
   "id": "8b44061b",
   "metadata": {},
   "outputs": [],
   "source": [
    "OUT_DIR = \"results/models\"\n",
    "OUT_VIS = \"results/figures\"\n",
    "OUT_CSV = \"results/csv\"\n",
    "os.makedirs(OUT_DIR, exist_ok=True)\n",
    "os.makedirs(OUT_VIS, exist_ok=True)\n",
    "os.makedirs(OUT_CSV, exist_ok=True)"
   ]
  },
  {
   "cell_type": "code",
   "execution_count": null,
   "id": "6178fe63",
   "metadata": {},
   "outputs": [],
   "source": [
    "X_train = pd.read_csv(\"data/processed/X/train.csv\")\n",
    "y_train = pd.read_csv(\"data/processed/Y/train.csv\").squeeze()\n",
    "X_val = pd.read_csv(\"data/processed/X/val.csv\")\n",
    "y_val = pd.read_csv(\"data/processed/Y/val.csv\").squeeze()\n",
    "\n",
    "print(f\"Before filter - X_train shape: {X_train.shape}\")\n",
    "print(f\"Before filter - X_val shape: {X_val.shape}\")\n",
    "\n",
    "X_train = X_train.select_dtypes(include=[np.number])\n",
    "X_val = X_val.select_dtypes(include=[np.number])\n",
    "\n",
    "print(f\"After filter - X_train shape: {X_train.shape}\")\n",
    "print(f\"After filter - X_val shape: {X_val.shape}\")"
   ]
  },
  {
   "cell_type": "code",
   "execution_count": null,
   "id": "048a05db",
   "metadata": {},
   "outputs": [],
   "source": [
    "# Combine or prune rare classes in train/val\n",
    "threshold = 50\n",
    "counts = y_train.value_counts()\n",
    "rare_classes = counts[counts < threshold].index.tolist()\n",
    "# Map rare labels to 'Other'\n",
    "y_train = y_train.replace({cls: 'Other' for cls in rare_classes})\n",
    "y_val = y_val.replace({cls: 'Other' for cls in rare_classes})\n",
    "print(f\"Classes after combining rare into 'Other': {y_train.unique()}\")"
   ]
  },
  {
   "cell_type": "markdown",
   "id": "403f7cb4",
   "metadata": {},
   "source": [
    "## RF Model\n",
    "\n",
    "We now train a Random Forest model which, in theory, should outperform the k-NN baseline due to its ability to capture complex interactions and non-linear relationships in the data. The Random Forest model is robust to overfitting and can handle high-dimensional feature spaces effectively."
   ]
  },
  {
   "cell_type": "code",
   "execution_count": null,
   "id": "c16c2d02",
   "metadata": {},
   "outputs": [],
   "source": [
    "from imblearn.over_sampling import SMOTE\n",
    "from imblearn.pipeline import Pipeline as ImbPipeline\n",
    "from sklearn.ensemble import RandomForestClassifier\n",
    "from sklearn.model_selection import RandomizedSearchCV, StratifiedKFold"
   ]
  },
  {
   "cell_type": "code",
   "execution_count": null,
   "id": "34b9ebd4",
   "metadata": {},
   "outputs": [],
   "source": [
    "pipeline = ImbPipeline(\n",
    "    [\n",
    "        (\"smote\", SMOTE()),\n",
    "        (\"scaler\", StandardScaler()),\n",
    "        (\"rf\", RandomForestClassifier(class_weight=\"balanced\", random_state=42)),\n",
    "    ]\n",
    ")"
   ]
  },
  {
   "cell_type": "code",
   "execution_count": null,
   "id": "027744a1",
   "metadata": {},
   "outputs": [],
   "source": [
    "param_dist = {\n",
    "    \"rf__n_estimators\": [100, 200, 500],\n",
    "    \"rf__max_depth\": [None, 10, 20, 30],\n",
    "    \"rf__min_samples_split\": [2, 5, 10],\n",
    "    \"rf__min_samples_leaf\": [1, 2, 4],\n",
    "}"
   ]
  },
  {
   "cell_type": "code",
   "execution_count": null,
   "id": "3fc5439f",
   "metadata": {},
   "outputs": [],
   "source": [
    "cv = StratifiedKFold(n_splits=3, shuffle=True, random_state=42)\n",
    "search = RandomizedSearchCV(\n",
    "    estimator=pipeline,\n",
    "    param_distributions=param_dist,\n",
    "    n_iter=50,\n",
    "    cv=cv,\n",
    "    scoring=\"f1_macro\",\n",
    "    random_state=42,\n",
    "    n_jobs=-1,\n",
    "    verbose=1,\n",
    ")\n",
    "\n",
    "print(\"Starting RandomizedSearchCV for Random Forest with cv=StratifiedKFold(3)...\")\n",
    "search.fit(X_train, y_train)"
   ]
  },
  {
   "cell_type": "code",
   "execution_count": null,
   "id": "e60a83f1",
   "metadata": {},
   "outputs": [],
   "source": [
    "best_rf = search.best_estimator_\n",
    "print(f\"Best parameters: {search.best_params_}\")\n",
    "print(f\"Best CV F1 (weighted): {search.best_score_:.4f}\")"
   ]
  },
  {
   "cell_type": "code",
   "execution_count": null,
   "id": "bf2ac45e",
   "metadata": {},
   "outputs": [],
   "source": [
    "X_combined = pd.concat([X_train, X_val], axis=0)\n",
    "y_combined = pd.concat([y_train, y_val], axis=0)"
   ]
  },
  {
   "cell_type": "code",
   "execution_count": null,
   "id": "bf5faa89",
   "metadata": {},
   "outputs": [],
   "source": [
    "print(\"Retraining best Random Forest on train + val...\")\n",
    "best_rf.fit(X_combined, y_combined)"
   ]
  },
  {
   "cell_type": "code",
   "execution_count": null,
   "id": "94b475d4",
   "metadata": {},
   "outputs": [],
   "source": [
    "X_test = pd.read_csv(\"data/processed/X/test.csv\")\n",
    "y_test = pd.read_csv(\"data/processed/Y/test.csv\").squeeze()\n",
    "\n",
    "X_test = X_test.select_dtypes(include=[np.number])\n",
    "X_test = X_test[X_train.columns]"
   ]
  },
  {
   "cell_type": "code",
   "execution_count": null,
   "id": "67281551",
   "metadata": {},
   "outputs": [],
   "source": [
    "y_test_pred = best_rf.predict(X_test)\n",
    "test_accuracy = accuracy_score(y_test, y_test_pred)\n",
    "test_f1 = f1_score(y_test, y_test_pred, average=\"weighted\")\n",
    "\n",
    "print(f\"Test Accuracy: {test_accuracy:.4f}\")\n",
    "print(f\"Test F1 (weighted): {test_f1:.4f}\")"
   ]
  },
  {
   "cell_type": "code",
   "execution_count": null,
   "id": "a31e9fed",
   "metadata": {},
   "outputs": [],
   "source": [
    "report = classification_report(y_test, y_test_pred)\n",
    "print(\"Classification Report on Test Set:\")\n",
    "print(report)\n",
    "\n",
    "joblib.dump(best_rf, \"results/models/rf_best.pkl\")\n",
    "print(\"Saved best Random Forest model to results/models/rf_best.pkl\")\n",
    "\n",
    "pd.DataFrame(search.cv_results_).to_csv(\"results/csv/rf_cv_results.csv\", index=False)\n",
    "with open(\"results/models/rf_test_metrics.txt\", \"w\") as f:\n",
    "    f.write(f\"Test Accuracy: {test_accuracy:.4f}\\n\")\n",
    "    f.write(f\"Test F1 (weighted): {test_f1:.4f}\\n\")\n",
    "    f.write(report)\n",
    "print(\"Saved CV results and test metrics.\")"
   ]
  },
  {
   "cell_type": "code",
   "execution_count": null,
   "id": "3eb19a78",
   "metadata": {},
   "outputs": [],
   "source": [
    "importances = best_rf.named_steps[\"rf\"].feature_importances_\n",
    "importances_df = pd.Series(importances, index=X_train.columns)\n",
    "\n",
    "importances_csv_path = os.path.join(OUT_CSV, \"rf_feature_importances.csv\")\n",
    "importances_df.sort_values(ascending=False).to_csv(importances_csv_path, index=False)"
   ]
  },
  {
   "cell_type": "code",
   "execution_count": null,
   "id": "c4a7b565",
   "metadata": {},
   "outputs": [],
   "source": [
    "importances_top20 = importances_df.sort_values(ascending=False).head(20)\n",
    "plt.figure(figsize=(10, 8))\n",
    "plt.barh(importances_top20.index, importances_top20.values, color=\"skyblue\")\n",
    "plt.gca().invert_yaxis()\n",
    "plt.title(\"Top 20 Feature Importances (Random Forest)\")\n",
    "plt.xlabel(\"Importance\")\n",
    "plt.tight_layout()\n",
    "path = os.path.join(OUT_VIS, \"rf_top20_feature_importances.png\")\n",
    "plt.savefig(path)\n",
    "print(f\"Saved top 20 feature importances plot to {path}\")\n",
    "plt.close()"
   ]
  },
  {
   "cell_type": "code",
   "execution_count": null,
   "id": "d3284a2c",
   "metadata": {},
   "outputs": [],
   "source": [
    "cm = confusion_matrix(y_test, y_test_pred, labels=best_rf.named_steps[\"rf\"].classes_)\n",
    "cm_df =pd.DataFrame(\n",
    "    cm,\n",
    "    index=best_rf.named_steps[\"rf\"].classes_,\n",
    "    columns=best_rf.named_steps[\"rf\"].classes_,\n",
    ")\n",
    "\n",
    "cm_csv_path = os.path.join(OUT_CSV, \"rf_confusion_matrix.csv\")\n",
    "cm_df.to_csv(cm_csv_path, index=False)\n",
    "print(f\"Saved confusion matrix to {cm_csv_path}\")"
   ]
  },
  {
   "cell_type": "code",
   "execution_count": null,
   "id": "f42235c7",
   "metadata": {},
   "outputs": [],
   "source": [
    "fig, ax = plt.subplots(figsize=(10, 8))\n",
    "sns.heatmap(cm_df, annot=True, fmt='d', cmap='Blues', ax=ax)\n",
    "ax.set_xlabel('Predicted label')\n",
    "ax.set_ylabel('True label')\n",
    "ax.set_title('Random Forest Confusion Matrix Heatmap')\n",
    "plt.tight_layout()\n",
    "heatmap_path = os.path.join(OUT_VIS, 'rf_confusion_matrix_heatmap.png')\n",
    "plt.savefig(heatmap_path)\n",
    "plt.close(fig)\n",
    "print(f'Saved confusion matrix heatmap to {heatmap_path}')"
   ]
  },
  {
   "cell_type": "code",
   "execution_count": null,
   "id": "595b139b",
   "metadata": {},
   "outputs": [],
   "source": [
    "n_classes = len(best_rf.named_steps[\"rf\"].classes_)\n",
    "y_test_bin = label_binarize(y_test, classes=best_rf.named_steps[\"rf\"].classes_)\n",
    "y_score = best_rf.predict_proba(X_test)\n",
    "\n",
    "fpr = {}\n",
    "tpr = {}\n",
    "roc_auc = {}\n",
    "for i, cls in enumerate(best_rf.named_steps[\"rf\"].classes_):\n",
    "    fpr[i], tpr[i], _ = roc_curve(y_test_bin[:, i], y_score[:, i])\n",
    "    roc_auc[i] = auc(fpr[i], tpr[i])"
   ]
  },
  {
   "cell_type": "code",
   "execution_count": null,
   "id": "e97fb249",
   "metadata": {},
   "outputs": [],
   "source": [
    "auc_df = pd.DataFrame(\n",
    "    {\n",
    "        \"class\": best_rf.named_steps[\"rf\"].classes_,\n",
    "        \"auc\": [roc_auc[i] for i in range(n_classes)],\n",
    "    }\n",
    ")\n",
    "auc_csv_path = os.path.join(OUT_CSV, \"rf_roc_auc_values.csv\")\n",
    "auc_df.to_csv(auc_csv_path, index=False)\n",
    "print(f\"Saved per-class AUC values to {auc_csv_path}\")"
   ]
  },
  {
   "cell_type": "code",
   "execution_count": null,
   "id": "f9910e5b",
   "metadata": {},
   "outputs": [],
   "source": [
    "fig, ax = plt.subplots(figsize=(10, 8))\n",
    "for i, cls in enumerate(best_rf.named_steps[\"rf\"].classes_):\n",
    "    ax.plot(fpr[i], tpr[i], label=f\"{cls} (AUC = {roc_auc[i]:.2f})\")\n",
    "ax.plot([0, 1], [0, 1], \"k--\")\n",
    "ax.set_xlim([0.0, 1.0])\n",
    "ax.set_ylim([0.0, 1.05])\n",
    "ax.set_xlabel(\"False Positive Rate\")\n",
    "ax.set_ylabel(\"True Positive Rate\")\n",
    "ax.set_title(\"ROC Curves for Random Forest (One-vs-Rest)\")\n",
    "ax.legend(loc=\"lower right\")\n",
    "plt.tight_layout()\n",
    "roc_plot_path = os.path.join(OUT_VIS, \"rf_roc_curves.png\")\n",
    "plt.savefig(roc_plot_path)\n",
    "plt.close(fig)\n",
    "print(f\"Saved ROC curves plot to {roc_plot_path}\")"
   ]
  },
  {
   "cell_type": "code",
   "execution_count": null,
   "id": "07201758",
   "metadata": {},
   "outputs": [],
   "source": [
    "precision = {}\n",
    "recall = {}\n",
    "avg_prec = {}\n",
    "for i, cls in enumerate(best_rf.named_steps[\"rf\"].classes_):\n",
    "    precision[i], recall[i], _ = precision_recall_curve(y_test_bin[:, i], y_score[:, i])\n",
    "    avg_prec[i] = average_precision_score(y_test_bin[:, i], y_score[:, i])"
   ]
  },
  {
   "cell_type": "code",
   "execution_count": null,
   "id": "7b236efa",
   "metadata": {},
   "outputs": [],
   "source": [
    "pr_df = pd.DataFrame(\n",
    "    {\n",
    "        \"class\": best_rf.named_steps[\"rf\"].classes_,\n",
    "        \"avg_precision\": [avg_prec[i] for i in range(n_classes)],\n",
    "    }\n",
    ")\n",
    "pr_csv_path = os.path.join(OUT_CSV, \"rf_pr_avg_precision.csv\")\n",
    "pr_df.to_csv(pr_csv_path, index=False)\n",
    "print(f\"Saved per-class average precision to {pr_csv_path}\")"
   ]
  },
  {
   "cell_type": "code",
   "execution_count": null,
   "id": "f1e25c84",
   "metadata": {},
   "outputs": [],
   "source": [
    "fig, ax = plt.subplots(figsize=(10, 8))\n",
    "for i, cls in enumerate(best_rf.named_steps[\"rf\"].classes_):\n",
    "    ax.plot(recall[i], precision[i], label=f\"{cls} (AP = {avg_prec[i]:.2f})\")\n",
    "ax.set_xlabel(\"Recall\")\n",
    "ax.set_ylabel(\"Precision\")\n",
    "ax.set_title(\"Precision-Recall Curves for Random Forest (One-vs-Rest)\")\n",
    "ax.legend(loc=\"lower left\")\n",
    "plt.tight_layout()\n",
    "pr_plot_path = os.path.join(OUT_VIS, \"rf_pr_curves.png\")\n",
    "plt.savefig(pr_plot_path)\n",
    "plt.close(fig)\n",
    "print(f\"Saved PR curves plot to {pr_plot_path}\")"
   ]
  },
  {
   "cell_type": "code",
   "execution_count": null,
   "id": "541743ab",
   "metadata": {},
   "outputs": [],
   "source": [
    "y_prob = best_rf.predict_proba(X_test)\n",
    "\n",
    "calibration_data = {}\n",
    "brier_scores = {}\n",
    "for i, cls in enumerate(best_rf.named_steps[\"rf\"].classes_):\n",
    "    prob_pos = y_prob[:, i]\n",
    "    frac_of_pos, mean_pred_val = calibration_curve(\n",
    "        y_test_bin[:, i], prob_pos, n_bins=10\n",
    "    )\n",
    "    calibration_data[i] = (mean_pred_val, frac_of_pos)\n",
    "    brier_scores[cls] = brier_score_loss(y_test_bin[:, i], prob_pos)"
   ]
  },
  {
   "cell_type": "code",
   "execution_count": null,
   "id": "7e34518f",
   "metadata": {},
   "outputs": [],
   "source": [
    "brier_df = pd.DataFrame(\n",
    "    {\n",
    "        \"class\": best_rf.named_steps[\"rf\"].classes_,\n",
    "        \"brier_score\": [\n",
    "            brier_scores[cls] for cls in best_rf.named_steps[\"rf\"].classes_\n",
    "        ],\n",
    "    }\n",
    ")\n",
    "brier_csv_path = os.path.join(OUT_CSV, \"rf_brier_scores.csv\")\n",
    "brier_df.to_csv(brier_csv_path, index=False)\n",
    "print(f\"Saved per-class Brier scores to {brier_csv_path}\")"
   ]
  },
  {
   "cell_type": "code",
   "execution_count": null,
   "id": "36dfddbd",
   "metadata": {},
   "outputs": [],
   "source": [
    "fig, ax = plt.subplots(figsize=(10, 8))\n",
    "for i, cls in enumerate(best_rf.named_steps[\"rf\"].classes_):\n",
    "    mean_pred_val, frac_of_pos = calibration_data[i]\n",
    "    ax.plot(mean_pred_val, frac_of_pos, marker=\"o\", label=f\"{cls}\")\n",
    "ax.plot([0, 1], [0, 1], \"k--\")\n",
    "ax.set_xlabel(\"Mean Predicted Probability\")\n",
    "ax.set_ylabel(\"Fraction of Positives\")\n",
    "ax.set_title(\"Calibration Curves for Random Forest\")\n",
    "ax.legend(loc=\"best\")\n",
    "plt.tight_layout()\n",
    "cal_curve_path = os.path.join(OUT_VIS, \"rf_calibration_curve.png\")\n",
    "plt.savefig(cal_curve_path)\n",
    "plt.close(fig)\n",
    "print(f\"Saved calibration curve plot to {cal_curve_path}\")"
   ]
  },
  {
   "cell_type": "code",
   "execution_count": null,
   "id": "efb2d6fa",
   "metadata": {},
   "outputs": [],
   "source": [
    "perm_results = permutation_importance(\n",
    "    best_rf, X_test, y_test, n_repeats=10, random_state=42, n_jobs=4\n",
    ")\n",
    "perm_df = pd.DataFrame(\n",
    "    {\n",
    "        \"feature\": X_test.columns,\n",
    "        \"importance_mean\": perm_results.importances_mean,\n",
    "        \"importance_std\": perm_results.importances_std,\n",
    "    }\n",
    ")\n",
    "perm_csv_path = os.path.join(OUT_CSV, \"rf_permutation_importance.csv\")\n",
    "perm_df.to_csv(perm_csv_path, index=False)\n",
    "print(f\"Saved permutation importances to {perm_csv_path}\")"
   ]
  },
  {
   "cell_type": "code",
   "execution_count": null,
   "id": "d76a0fee",
   "metadata": {},
   "outputs": [],
   "source": [
    "rf_base = best_rf.named_steps[\"rf\"]\n",
    "n_estimators_list = [50, 100, 200, 300, 400, 500]\n",
    "train_scores = []\n",
    "val_scores = []\n",
    "for n in n_estimators_list:\n",
    "    rf_temp = RandomForestClassifier(\n",
    "        n_estimators=n,\n",
    "        max_depth=rf_base.max_depth,\n",
    "        min_samples_split=rf_base.min_samples_split,\n",
    "        min_samples_leaf=rf_base.min_samples_leaf,\n",
    "        random_state=rf_base.random_state,\n",
    "    )\n",
    "    pipeline_temp = Pipeline([(\"scaler\", StandardScaler()), (\"rf\", rf_temp)])\n",
    "    pipeline_temp.fit(X_train, y_train)\n",
    "    y_train_pred = pipeline_temp.predict(X_train)\n",
    "    y_val_pred = pipeline_temp.predict(X_val)\n",
    "    train_scores.append(f1_score(y_train, y_train_pred, average=\"weighted\"))\n",
    "    val_scores.append(f1_score(y_val, y_val_pred, average=\"weighted\"))"
   ]
  },
  {
   "cell_type": "code",
   "execution_count": null,
   "id": "1d023f8d",
   "metadata": {},
   "outputs": [],
   "source": [
    "lc_df = pd.DataFrame(\n",
    "    {\"n_estimators\": n_estimators_list, \"train_f1\": train_scores, \"val_f1\": val_scores}\n",
    ")\n",
    "lc_csv = os.path.join(OUT_CSV, \"rf_learning_curve.csv\")\n",
    "lc_df.to_csv(lc_csv, index=False)\n",
    "print(f\"Saved learning curve data to {lc_csv}\")"
   ]
  },
  {
   "cell_type": "code",
   "execution_count": null,
   "id": "376f085d",
   "metadata": {},
   "outputs": [],
   "source": [
    "plt.figure(figsize=(10, 6))\n",
    "plt.plot(n_estimators_list, train_scores, label=\"Train F1\", marker=\"o\")\n",
    "plt.plot(n_estimators_list, val_scores, label=\"Validation F1\", marker=\"o\")\n",
    "plt.xlabel(\"Number of Trees\")\n",
    "plt.ylabel(\"F1 Score (weighted)\")\n",
    "plt.title(\"Learning Curve: Random Forest\")\n",
    "plt.legend()\n",
    "plt.tight_layout()\n",
    "lc_plot = os.path.join(OUT_VIS, \"rf_learning_curve.png\")\n",
    "plt.savefig(lc_plot)\n",
    "plt.close()\n",
    "print(f\"Saved learning curve plot to {lc_plot}\")"
   ]
  },
  {
   "cell_type": "code",
   "execution_count": null,
   "id": "c1e08e79",
   "metadata": {},
   "outputs": [],
   "source": [
    "top_features = importances_df.sort_values(ascending=False).head(3).index.tolist()\n",
    "\n",
    "fig, ax = plt.subplots(figsize=(15, 5))\n",
    "PartialDependenceDisplay.from_estimator(\n",
    "    best_rf, X_train, features=top_features, kind='average', grid_resolution=50, ax=ax\n",
    ")\n",
    "plt.tight_layout()\n",
    "pdp_plot_path = os.path.join(OUT_VIS, 'rf_partial_dependence.png')\n",
    "plt.savefig(pdp_plot_path)\n",
    "plt.close(fig)\n",
    "print(f\"Saved partial dependence plot to {pdp_plot_path}\")"
   ]
  }
 ],
 "metadata": {
  "kernelspec": {
   "display_name": ".venv",
   "language": "python",
   "name": "python3"
  },
  "language_info": {
   "codemirror_mode": {
    "name": "ipython",
    "version": 3
   },
   "file_extension": ".py",
   "mimetype": "text/x-python",
   "name": "python",
   "nbconvert_exporter": "python",
   "pygments_lexer": "ipython3",
   "version": "3.12.11"
  }
 },
 "nbformat": 4,
 "nbformat_minor": 5
}
