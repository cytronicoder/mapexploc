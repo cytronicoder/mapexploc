{
 "cells": [
  {
   "cell_type": "markdown",
   "id": "bd927c6a",
   "metadata": {},
   "source": [
    "# SHAP analysis\n",
    "\n",
    "This notebook contains the [SHAP (SHapley Additive exPlanations)](https://shap.readthedocs.io/en/latest/) analysis for the Random Forest model used in the localization predictor. It visualizes the impact of features on model predictions using SHAP values.\n",
    "\n",
    "We utilize 200 samples from the test set to compute SHAP values, which are then visualized using various SHAP plots."
   ]
  },
  {
   "cell_type": "code",
   "execution_count": null,
   "id": "5cade1ba",
   "metadata": {},
   "outputs": [],
   "source": [
    "import os\n",
    "\n",
    "import joblib\n",
    "import matplotlib.pyplot as plt\n",
    "import numpy as np\n",
    "import pandas as pd\n",
    "import shap"
   ]
  },
  {
   "cell_type": "code",
   "execution_count": null,
   "id": "935f7c0c",
   "metadata": {},
   "outputs": [],
   "source": [
    "OUT_VIS = \"results/figures/shap_analysis\"\n",
    "os.makedirs(OUT_VIS, exist_ok=True)"
   ]
  },
  {
   "cell_type": "code",
   "execution_count": null,
   "id": "a1129127",
   "metadata": {},
   "outputs": [],
   "source": [
    "model = joblib.load(\"results/models/rf_best.pkl\")\n",
    "rf = model.named_steps[\"rf\"]"
   ]
  },
  {
   "cell_type": "code",
   "execution_count": null,
   "id": "fd8e9823",
   "metadata": {},
   "outputs": [],
   "source": [
    "X_train = pd.read_csv(\"data/processed/X/train.csv\").select_dtypes(include=[np.number])\n",
    "X_test = pd.read_csv(\"data/processed/X/test.csv\").select_dtypes(include=[np.number])\n",
    "X_test = X_test[X_train.columns]  # align columns"
   ]
  },
  {
   "cell_type": "code",
   "execution_count": null,
   "id": "960b8e15",
   "metadata": {},
   "outputs": [],
   "source": [
    "shap.initjs()"
   ]
  },
  {
   "cell_type": "code",
   "execution_count": null,
   "id": "ffe5e95e",
   "metadata": {},
   "outputs": [],
   "source": [
    "X_test_shap = shap.sample(X_test, 200, random_state=42)"
   ]
  },
  {
   "cell_type": "code",
   "execution_count": null,
   "id": "083a35ca",
   "metadata": {},
   "outputs": [],
   "source": [
    "explainer = shap.TreeExplainer(rf)\n",
    "shap_values = explainer.shap_values(X_test_shap)"
   ]
  },
  {
   "cell_type": "code",
   "execution_count": null,
   "id": "f1950e9d",
   "metadata": {},
   "outputs": [],
   "source": [
    "if isinstance(shap_values, np.ndarray) and shap_values.ndim == 3:\n",
    "    shap_values = [shap_values[:, :, i] for i in range(shap_values.shape[2])]"
   ]
  },
  {
   "cell_type": "code",
   "execution_count": null,
   "id": "abd45917",
   "metadata": {},
   "outputs": [],
   "source": [
    "shap.summary_plot(\n",
    "    shap_values,\n",
    "    X_test_shap,\n",
    "    feature_names=X_test_shap.columns,\n",
    "    plot_type=\"bar\",\n",
    "    class_names=rf.classes_ if hasattr(rf, 'classes_') else None,\n",
    "    show=False\n",
    ")\n",
    "plt.tight_layout()\n",
    "plt.savefig(f\"{OUT_VIS}/shap_summary_all_classes.png\")\n",
    "plt.close()"
   ]
  },
  {
   "cell_type": "code",
   "execution_count": null,
   "id": "75d8d5b6",
   "metadata": {},
   "outputs": [],
   "source": [
    "for cls_index in range(len(rf.classes_)):\n",
    "    label = rf.classes_[cls_index]\n",
    "    os.makedirs(f\"{OUT_VIS}/{label.replace(' ', '_').lower()}\", exist_ok=True)"
   ]
  },
  {
   "cell_type": "code",
   "execution_count": null,
   "id": "5ee915a3",
   "metadata": {},
   "outputs": [],
   "source": [
    "for class_index in range(len(shap_values)):\n",
    "    print(f\"Generating SHAP plots for class {class_index}\")\n",
    "    label = (\n",
    "        rf.classes_[class_index] if hasattr(rf, \"classes_\") else f\"Class {class_index}\"\n",
    "    )\n",
    "    label = label.replace(\" \", \"_\").lower()\n",
    "    for i in range(len(X_test_shap)):\n",
    "        shap.force_plot(\n",
    "            explainer.expected_value[class_index],\n",
    "            shap_values[class_index][i, :],\n",
    "            X_test_shap.iloc[i, :],\n",
    "            matplotlib=True,\n",
    "            show=False,\n",
    "        )\n",
    "        force_path = f\"{OUT_VIS}/{label}/shap_force_sample{i}.png\"\n",
    "        plt.savefig(force_path, bbox_inches=\"tight\")\n",
    "        plt.close()\n",
    "\n",
    "        shap.plots._waterfall.waterfall_legacy(\n",
    "            explainer.expected_value[class_index],\n",
    "            shap_values[class_index][i, :],\n",
    "            X_test_shap.iloc[i, :],\n",
    "            show=False,\n",
    "        )\n",
    "        waterfall_path = f\"{OUT_VIS}/{label}/shap_waterfall_sample{i}.png\"\n",
    "        plt.savefig(waterfall_path, bbox_inches=\"tight\")\n",
    "        plt.close()"
   ]
  },
  {
   "cell_type": "code",
   "execution_count": null,
   "id": "dbe7aa3c",
   "metadata": {},
   "outputs": [],
   "source": [
    "for class_index in range(len(shap_values)):\n",
    "    has_classes = hasattr(rf, 'classes_')\n",
    "    label = rf.classes_[class_index] if has_classes else f\"Class {class_index}\"\n",
    "    label = label.replace(' ', '_').lower()\n",
    "    shap.decision_plot(\n",
    "        explainer.expected_value[class_index],\n",
    "        shap_values[class_index],\n",
    "        X_test_shap,\n",
    "        show=False\n",
    "    )\n",
    "    decision_path = f\"{OUT_VIS}/{label}/shap_decision.png\"\n",
    "    plt.savefig(decision_path, bbox_inches=\"tight\")\n",
    "    plt.close()"
   ]
  },
  {
   "cell_type": "code",
   "execution_count": null,
   "id": "e477db08",
   "metadata": {},
   "outputs": [],
   "source": [
    "shap_interact = explainer.shap_interaction_values(X_test_shap)\n",
    "shap.summary_plot(\n",
    "    shap_interact,\n",
    "    X_test_shap,\n",
    "    feature_names=X_test_shap.columns,\n",
    "    plot_type='dot'\n",
    ")\n",
    "plt.savefig(f\"{OUT_VIS}/shap_interaction_summary.png\")\n",
    "plt.close()"
   ]
  },
  {
   "cell_type": "markdown",
   "id": "301add3d",
   "metadata": {},
   "source": [
    "## Speeding Up SHAP Plot Generation\n",
    "\n",
    "(Note: This section is a sandbox for testing and may not be fully functional yet.)\n",
    "\n",
    "To accelerate plotting over many samples and classes, consider leveraging `joblib.Parallel` to generate plots concurrently.\n",
    "\n",
    "Below is an example of how to parallelize force and waterfall plot generation."
   ]
  },
  {
   "cell_type": "code",
   "execution_count": null,
   "id": "9c4de8dd",
   "metadata": {},
   "outputs": [],
   "source": [
    "from joblib import Parallel, delayed\n",
    "\n",
    "\n",
    "def gen_plots_for(i, class_index, label):\n",
    "    shap_vals_inst = shap_values[class_index][i : i + 1, :]\n",
    "    feat_inst = X_test_shap.iloc[i : i + 1, :]\n",
    "    fig = shap.plots.force(\n",
    "        explainer.expected_value[class_index],\n",
    "        shap_vals_inst,\n",
    "        feat_inst,\n",
    "        matplotlib=True,\n",
    "        show=False,\n",
    "    )\n",
    "    fig.savefig(f\"{OUT_VIS}/{label}/shap_force_sample{i}.png\", bbox_inches=\"tight\")\n",
    "    plt.close(fig)\n",
    "\n",
    "    shap.plots._waterfall.waterfall_legacy(\n",
    "        explainer.expected_value[class_index],\n",
    "        shap_values[class_index][i, :],\n",
    "        X_test_shap.iloc[i, :],\n",
    "        show=False,\n",
    "    )\n",
    "    fig2 = plt.gcf()\n",
    "    fig2.savefig(f\"{OUT_VIS}/{label}/shap_waterfall_sample{i}.png\", bbox_inches=\"tight\")\n",
    "    plt.close(fig2)\n",
    "\n",
    "\n",
    "indices = shap.sample(list(range(len(X_test_shap))), 20, random_state=1)\n",
    "class_idx = 0\n",
    "label = rf.classes_[class_idx].replace(\" \", \"_\").lower()\n",
    "Parallel(n_jobs=4)(delayed(gen_plots_for)(i, class_idx, label) for i in indices)"
   ]
  }
 ],
 "metadata": {
  "kernelspec": {
   "display_name": "eslp",
   "language": "python",
   "name": "python3"
  },
  "language_info": {
   "codemirror_mode": {
    "name": "ipython",
    "version": 3
   },
   "file_extension": ".py",
   "mimetype": "text/x-python",
   "name": "python",
   "nbconvert_exporter": "python",
   "pygments_lexer": "ipython3",
   "version": "3.13.5"
  }
 },
 "nbformat": 4,
 "nbformat_minor": 5
}
