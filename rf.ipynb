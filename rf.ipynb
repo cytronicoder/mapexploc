{
 "cells": [
  {
   "cell_type": "markdown",
   "id": "2689f0e9",
   "metadata": {},
   "source": [
    "# RF Model\n",
    "\n",
    "We now train a Random Forest model which, in theory, should outperform the k-NN baseline due to its ability to capture complex interactions and non-linear relationships in the data. The Random Forest model is robust to overfitting and can handle high-dimensional feature spaces effectively."
   ]
  },
  {
   "cell_type": "code",
   "execution_count": 1,
   "id": "abe299ee",
   "metadata": {},
   "outputs": [],
   "source": [
    "import os\n",
    "\n",
    "import joblib\n",
    "import matplotlib.pyplot as plt\n",
    "import numpy as np\n",
    "import pandas as pd\n",
    "import seaborn as sns\n",
    "from imblearn.over_sampling import SMOTE\n",
    "from imblearn.pipeline import Pipeline as ImbPipeline\n",
    "from sklearn.calibration import calibration_curve\n",
    "from sklearn.ensemble import RandomForestClassifier\n",
    "from sklearn.metrics import (\n",
    "    accuracy_score,\n",
    "    auc,\n",
    "    average_precision_score,\n",
    "    brier_score_loss,\n",
    "    classification_report,\n",
    "    confusion_matrix,\n",
    "    f1_score,\n",
    "    precision_recall_curve,\n",
    "    roc_curve,\n",
    ")\n",
    "from sklearn.model_selection import (\n",
    "    RandomizedSearchCV,\n",
    "    StratifiedKFold,\n",
    ")\n",
    "from sklearn.preprocessing import StandardScaler, label_binarize"
   ]
  },
  {
   "cell_type": "code",
   "execution_count": 2,
   "id": "a6b6f8cd",
   "metadata": {},
   "outputs": [],
   "source": [
    "OUT_DIR = \"results/models\"\n",
    "OUT_VIS = \"results/figures\"\n",
    "OUT_CSV = \"results/csv\"\n",
    "for d in [OUT_DIR, OUT_VIS, OUT_CSV]:\n",
    "    os.makedirs(d, exist_ok=True)"
   ]
  },
  {
   "cell_type": "code",
   "execution_count": 3,
   "id": "86d037c4",
   "metadata": {},
   "outputs": [],
   "source": [
    "X_train = pd.read_csv(\"data/processed/X/train.csv\").select_dtypes(include=[np.number])\n",
    "X_val = pd.read_csv(\"data/processed/X/val.csv\").select_dtypes(include=[np.number])\n",
    "y_train = pd.read_csv(\"data/processed/Y/train.csv\").squeeze()\n",
    "y_val = pd.read_csv(\"data/processed/Y/val.csv\").squeeze()\n",
    "\n",
    "threshold = 50\n",
    "counts = y_train.value_counts()\n",
    "rare = counts[counts < threshold].index.tolist()\n",
    "y_train.replace({c: \"Other\" for c in rare}, inplace=True)\n",
    "y_val.replace({c: \"Other\" for c in rare}, inplace=True)"
   ]
  },
  {
   "cell_type": "code",
   "execution_count": 4,
   "id": "75011755",
   "metadata": {},
   "outputs": [],
   "source": [
    "pipeline = ImbPipeline(\n",
    "    [\n",
    "        (\"smote\", SMOTE(random_state=42)),\n",
    "        (\"scaler\", StandardScaler()),\n",
    "        (\"rf\", RandomForestClassifier(class_weight=\"balanced\", random_state=42)),\n",
    "    ]\n",
    ")"
   ]
  },
  {
   "cell_type": "code",
   "execution_count": 5,
   "id": "55c13f2e",
   "metadata": {},
   "outputs": [],
   "source": [
    "param_dist = {\n",
    "    \"rf__n_estimators\": [100, 200],\n",
    "    \"rf__max_depth\": [None, 20],\n",
    "    \"rf__min_samples_split\": [2, 5],\n",
    "    \"rf__min_samples_leaf\": [1, 2],\n",
    "}\n",
    "cv = StratifiedKFold(n_splits=3, shuffle=True, random_state=42)\n",
    "search = RandomizedSearchCV(\n",
    "    estimator=pipeline,\n",
    "    param_distributions=param_dist,\n",
    "    n_iter=20,\n",
    "    cv=cv,\n",
    "    scoring=\"f1_weighted\",\n",
    "    n_jobs=4,\n",
    "    verbose=4,\n",
    "    random_state=42,\n",
    ")"
   ]
  },
  {
   "cell_type": "code",
   "execution_count": null,
   "id": "550dc48d",
   "metadata": {},
   "outputs": [
    {
     "name": "stdout",
     "output_type": "stream",
     "text": [
      "Starting RandomizedSearchCV...\n",
      "Fitting 3 folds for each of 16 candidates, totalling 48 fits\n"
     ]
    },
    {
     "name": "stderr",
     "output_type": "stream",
     "text": [
      "/home/codespace/miniforge3/envs/eslp/lib/python3.13/site-packages/sklearn/model_selection/_search.py:317: UserWarning: The total space of parameters 16 is smaller than n_iter=20. Running 16 iterations. For exhaustive searches, use GridSearchCV.\n",
      "  warnings.warn(\n"
     ]
    },
    {
     "name": "stdout",
     "output_type": "stream",
     "text": [
      "[CV 1/3] END rf__max_depth=None, rf__min_samples_leaf=1, rf__min_samples_split=2, rf__n_estimators=100;, score=0.767 total time=23.8min\n",
      "[CV 2/3] END rf__max_depth=None, rf__min_samples_leaf=1, rf__min_samples_split=2, rf__n_estimators=100;, score=0.773 total time=24.5min\n",
      "[CV 3/3] END rf__max_depth=None, rf__min_samples_leaf=1, rf__min_samples_split=2, rf__n_estimators=100;, score=0.771 total time=24.6min\n",
      "[CV 1/3] END rf__max_depth=None, rf__min_samples_leaf=1, rf__min_samples_split=2, rf__n_estimators=200;, score=0.772 total time=47.5min\n",
      "[CV 1/3] END rf__max_depth=None, rf__min_samples_leaf=1, rf__min_samples_split=5, rf__n_estimators=100;, score=0.766 total time=23.7min\n",
      "[CV 2/3] END rf__max_depth=None, rf__min_samples_leaf=1, rf__min_samples_split=5, rf__n_estimators=100;, score=0.775 total time=24.3min\n",
      "[CV 3/3] END rf__max_depth=None, rf__min_samples_leaf=1, rf__min_samples_split=2, rf__n_estimators=200;, score=0.776 total time=47.9min\n",
      "[CV 3/3] END rf__max_depth=None, rf__min_samples_leaf=1, rf__min_samples_split=5, rf__n_estimators=100;, score=0.770 total time=24.2min\n",
      "[CV 2/3] END rf__max_depth=None, rf__min_samples_leaf=1, rf__min_samples_split=2, rf__n_estimators=200;, score=0.776 total time=48.9min\n",
      "[CV 1/3] END rf__max_depth=None, rf__min_samples_leaf=2, rf__min_samples_split=2, rf__n_estimators=100;, score=0.766 total time=23.6min\n",
      "[CV 1/3] END rf__max_depth=None, rf__min_samples_leaf=1, rf__min_samples_split=5, rf__n_estimators=200;, score=0.771 total time=47.4min\n",
      "[CV 2/3] END rf__max_depth=None, rf__min_samples_leaf=2, rf__min_samples_split=2, rf__n_estimators=100;, score=0.772 total time=24.1min\n",
      "[CV 3/3] END rf__max_depth=None, rf__min_samples_leaf=1, rf__min_samples_split=5, rf__n_estimators=200;, score=0.774 total time=48.1min\n",
      "[CV 2/3] END rf__max_depth=None, rf__min_samples_leaf=1, rf__min_samples_split=5, rf__n_estimators=200;, score=0.776 total time=48.5min\n",
      "[CV 3/3] END rf__max_depth=None, rf__min_samples_leaf=2, rf__min_samples_split=2, rf__n_estimators=100;, score=0.771 total time=24.0min\n",
      "[CV 1/3] END rf__max_depth=None, rf__min_samples_leaf=2, rf__min_samples_split=5, rf__n_estimators=100;, score=0.767 total time=23.8min\n",
      "[CV 1/3] END rf__max_depth=None, rf__min_samples_leaf=2, rf__min_samples_split=2, rf__n_estimators=200;, score=0.770 total time=47.0min\n",
      "[CV 3/3] END rf__max_depth=None, rf__min_samples_leaf=2, rf__min_samples_split=2, rf__n_estimators=200;, score=0.775 total time=48.1min\n",
      "[CV 2/3] END rf__max_depth=None, rf__min_samples_leaf=2, rf__min_samples_split=2, rf__n_estimators=200;, score=0.774 total time=48.9min\n"
     ]
    }
   ],
   "source": [
    "print(\"Starting RandomizedSearchCV...\")\n",
    "with joblib.parallel_backend(\"threading\"):\n",
    "    search.fit(X_train, y_train)\n",
    "best = search.best_estimator_\n",
    "print(f\"Best params: {search.best_params_}\")\n",
    "print(f\"Best CV F1 (weighted): {search.best_score_:.4f}\")\n",
    "joblib.dump(best, os.path.join(OUT_DIR, \"rf_v2_best.pkl\"))"
   ]
  },
  {
   "cell_type": "code",
   "execution_count": null,
   "id": "8005ecf8",
   "metadata": {},
   "outputs": [],
   "source": [
    "X_comb = pd.concat([X_train, X_val], axis=0)\n",
    "y_comb = pd.concat([y_train, y_val], axis=0)\n",
    "print(\"Retraining best model on combined set...\")\n",
    "best.fit(X_comb, y_comb)\n",
    "joblib.dump(best, os.path.join(OUT_DIR, \"rf_v2_retrained.pkl\"))"
   ]
  },
  {
   "cell_type": "code",
   "execution_count": null,
   "id": "16994f13",
   "metadata": {},
   "outputs": [],
   "source": [
    "X_test = pd.read_csv(\"data/processed/X/test.csv\").select_dtypes(include=[np.number])\n",
    "y_test = pd.read_csv(\"data/processed/Y/test.csv\").squeeze()\n",
    "X_test = X_test[X_train.columns]\n",
    "\n",
    "y_pred = best.predict(X_test)\n",
    "acc = accuracy_score(y_test, y_pred)\n",
    "f1 = f1_score(y_test, y_pred, average=\"weighted\")\n",
    "print(f\"Test Accuracy: {acc:.4f}\")\n",
    "print(f\"Test F1 (weighted): {f1:.4f}\")"
   ]
  },
  {
   "cell_type": "code",
   "execution_count": null,
   "id": "28e876b8",
   "metadata": {},
   "outputs": [],
   "source": [
    "with open(os.path.join(OUT_DIR, \"rf_v2_test_metrics.txt\"), \"w\") as f:\n",
    "    f.write(f\"Accuracy: {acc:.4f}\\nF1-weighted: {f1:.4f}\\n\")\n",
    "    f.write(classification_report(y_test, y_pred))"
   ]
  },
  {
   "cell_type": "code",
   "execution_count": null,
   "id": "41ec1462",
   "metadata": {},
   "outputs": [],
   "source": [
    "cm = confusion_matrix(y_test, y_pred, labels=best.named_steps[\"rf\"].classes_)\n",
    "cm_df = pd.DataFrame(\n",
    "    cm, index=best.named_steps[\"rf\"].classes_, columns=best.named_steps[\"rf\"].classes_\n",
    ")\n",
    "cm_df.to_csv(os.path.join(OUT_CSV, \"rf_v2_confusion_matrix.csv\"))\n",
    "sns.heatmap(cm_df, annot=True, fmt=\"d\", cmap=\"Blues\")\n",
    "plt.title(\"RF v2 Confusion Matrix\")\n",
    "plt.tight_layout()\n",
    "plt.savefig(os.path.join(OUT_VIS, \"rf_v2_confusion_matrix.png\"))\n",
    "plt.close()"
   ]
  },
  {
   "cell_type": "code",
   "execution_count": null,
   "id": "e7321bd3",
   "metadata": {},
   "outputs": [],
   "source": [
    "classes = best.named_steps[\"rf\"].classes_\n",
    "y_bin = label_binarize(y_test, classes=classes)\n",
    "y_scores = best.predict_proba(X_test)\n",
    "fpr, tpr, roc_auc = {}, {}, {}\n",
    "for i, cls in enumerate(classes):\n",
    "    fpr[i], tpr[i], _ = roc_curve(y_bin[:, i], y_scores[:, i])\n",
    "    roc_auc[i] = auc(fpr[i], tpr[i])"
   ]
  },
  {
   "cell_type": "code",
   "execution_count": null,
   "id": "70d63293",
   "metadata": {},
   "outputs": [],
   "source": [
    "plt.figure(figsize=(8, 6))\n",
    "for i, cls in enumerate(classes):\n",
    "    plt.plot(fpr[i], tpr[i], label=f\"{cls} (AUC={roc_auc[i]:.2f})\")\n",
    "plt.plot([0, 1], [0, 1], \"k--\")\n",
    "plt.legend()\n",
    "plt.title(\"ROC Curves\")\n",
    "plt.tight_layout()\n",
    "plt.savefig(os.path.join(OUT_VIS, \"rf_v2_roc.png\"))\n",
    "plt.close()"
   ]
  },
  {
   "cell_type": "code",
   "execution_count": null,
   "id": "fc285319",
   "metadata": {},
   "outputs": [],
   "source": [
    "pr_auc = {}\n",
    "plt.figure(figsize=(8, 6))\n",
    "for i, cls in enumerate(classes):\n",
    "    prec, rec, _ = precision_recall_curve(y_bin[:, i], y_scores[:, i])\n",
    "    pr_auc[i] = average_precision_score(y_bin[:, i], y_scores[:, i])\n",
    "    plt.plot(rec, prec, label=f\"{cls} (AP={pr_auc[i]:.2f})\")\n",
    "plt.legend()\n",
    "plt.title(\"Precision-Recall Curves\")\n",
    "plt.tight_layout()\n",
    "plt.savefig(os.path.join(OUT_VIS, \"rf_v2_pr.png\"))\n",
    "plt.close()"
   ]
  },
  {
   "cell_type": "code",
   "execution_count": null,
   "id": "3d6a69e0",
   "metadata": {},
   "outputs": [],
   "source": [
    "brier = {}\n",
    "plt.figure(figsize=(8, 6))\n",
    "for i, cls in enumerate(classes):\n",
    "    prob = y_scores[:, i]\n",
    "    frac_pos, mean_pred = calibration_curve(y_bin[:, i], prob, n_bins=10)\n",
    "    plt.plot(mean_pred, frac_pos, marker=\"o\", label=f\"{cls}\")\n",
    "    brier[cls] = brier_score_loss(y_bin[:, i], prob)\n",
    "plt.plot([0, 1], [0, 1], \"k--\")\n",
    "plt.legend()\n",
    "plt.title(\"Calibration Curves\")\n",
    "plt.tight_layout()\n",
    "plt.savefig(os.path.join(OUT_VIS, \"rf_v2_calibration.png\"))\n",
    "plt.close()\n",
    "pd.DataFrame.from_dict(brier, orient=\"index\", columns=[\"brier_score\"]).to_csv(\n",
    "    os.path.join(OUT_CSV, \"rf_v2_brier.csv\")\n",
    ")"
   ]
  }
 ],
 "metadata": {
  "kernelspec": {
   "display_name": "eslp",
   "language": "python",
   "name": "python3"
  },
  "language_info": {
   "codemirror_mode": {
    "name": "ipython",
    "version": 3
   },
   "file_extension": ".py",
   "mimetype": "text/x-python",
   "name": "python",
   "nbconvert_exporter": "python",
   "pygments_lexer": "ipython3",
   "version": "3.13.5"
  }
 },
 "nbformat": 4,
 "nbformat_minor": 5
}
